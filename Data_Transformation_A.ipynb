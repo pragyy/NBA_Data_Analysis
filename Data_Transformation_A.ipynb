{
  "nbformat": 4,
  "nbformat_minor": 0,
  "metadata": {
    "colab": {
      "name": "Data_Transformation_A.ipynb",
      "provenance": [],
      "collapsed_sections": [
        "JbYXEAf50WYs"
      ]
    },
    "kernelspec": {
      "name": "python3",
      "display_name": "Python 3"
    },
    "language_info": {
      "name": "python"
    }
  },
  "cells": [
    {
      "cell_type": "markdown",
      "metadata": {
        "id": "Ax5LCEOL0dOq"
      },
      "source": [
        "# Data Cleaning and Manipulation - A"
      ]
    },
    {
      "cell_type": "code",
      "metadata": {
        "id": "p88qosm5QMqp"
      },
      "source": [
        "# import required packages\n",
        "import pandas as pd"
      ],
      "execution_count": 1,
      "outputs": []
    },
    {
      "cell_type": "markdown",
      "metadata": {
        "id": "T6-jPHl10g5b"
      },
      "source": [
        "## Merging all excel sheets into one"
      ]
    },
    {
      "cell_type": "code",
      "metadata": {
        "id": "KmeyAc0IU8iy"
      },
      "source": [
        "# importing the first sheet of excel to just fetch the columns\n",
        "d1 = pd.read_excel('/content/General_Totals_All_Seasons.xlsx', sheet_name=0)\n",
        "cols = d1.columns.tolist().append('Season')\n",
        "\n",
        "# create a new empty df with the above columns\n",
        "df = pd.DataFrame(columns=cols)"
      ],
      "execution_count": 2,
      "outputs": []
    },
    {
      "cell_type": "code",
      "metadata": {
        "id": "yu8txX5xr-jM"
      },
      "source": [
        "# get all the names in the sheet and store it in SEASON variable\n",
        "l = pd.read_excel(\"/content/General_Totals_All_Seasons.xlsx\", None)\n",
        "seasons = list(l.keys())"
      ],
      "execution_count": 3,
      "outputs": []
    },
    {
      "cell_type": "code",
      "metadata": {
        "id": "7EOXxdW8qgiJ"
      },
      "source": [
        "# append all the sheets in excel along with the SEASON\n",
        "for i in range(21):\n",
        "    dd = pd.read_excel('/content/General_Totals_All_Seasons.xlsx', sheet_name=i)\n",
        "    dd['SEASON'] = seasons[i]\n",
        "    df = df.append(dd)\n",
        "\n",
        "#print(df.describe(include='all'))\n",
        "#df.to_excel('~/Downloads/data.xlsx', index=False)"
      ],
      "execution_count": 4,
      "outputs": []
    },
    {
      "cell_type": "code",
      "metadata": {
        "colab": {
          "base_uri": "https://localhost:8080/",
          "height": 314
        },
        "id": "t1cXE0WKX_t3",
        "outputId": "d8f8c708-1e29-4830-df06-aacf4bd0b586"
      },
      "source": [
        "# df head\n",
        "df.head()"
      ],
      "execution_count": 9,
      "outputs": [
        {
          "output_type": "execute_result",
          "data": {
            "text/html": [
              "<div>\n",
              "<style scoped>\n",
              "    .dataframe tbody tr th:only-of-type {\n",
              "        vertical-align: middle;\n",
              "    }\n",
              "\n",
              "    .dataframe tbody tr th {\n",
              "        vertical-align: top;\n",
              "    }\n",
              "\n",
              "    .dataframe thead th {\n",
              "        text-align: right;\n",
              "    }\n",
              "</style>\n",
              "<table border=\"1\" class=\"dataframe\">\n",
              "  <thead>\n",
              "    <tr style=\"text-align: right;\">\n",
              "      <th></th>\n",
              "      <th>PLAYER</th>\n",
              "      <th>TEAM</th>\n",
              "      <th>AGE</th>\n",
              "      <th>GP</th>\n",
              "      <th>W</th>\n",
              "      <th>L</th>\n",
              "      <th>MIN</th>\n",
              "      <th>PTS</th>\n",
              "      <th>FGM</th>\n",
              "      <th>FGA</th>\n",
              "      <th>FG%</th>\n",
              "      <th>3PM</th>\n",
              "      <th>3PA</th>\n",
              "      <th>3P%</th>\n",
              "      <th>Free Throw FGM</th>\n",
              "      <th>Free Throw FGA</th>\n",
              "      <th>Free Throw FG%</th>\n",
              "      <th>OREB</th>\n",
              "      <th>DREB</th>\n",
              "      <th>REB</th>\n",
              "      <th>AST</th>\n",
              "      <th>TOV</th>\n",
              "      <th>STL</th>\n",
              "      <th>BLK</th>\n",
              "      <th>PF</th>\n",
              "      <th>FP</th>\n",
              "      <th>DD2</th>\n",
              "      <th>TD3</th>\n",
              "      <th>+/-</th>\n",
              "      <th>SEASON</th>\n",
              "    </tr>\n",
              "  </thead>\n",
              "  <tbody>\n",
              "    <tr>\n",
              "      <th>0</th>\n",
              "      <td>Michael Jordan</td>\n",
              "      <td>CHI</td>\n",
              "      <td>34</td>\n",
              "      <td>82</td>\n",
              "      <td>69</td>\n",
              "      <td>13</td>\n",
              "      <td>3109</td>\n",
              "      <td>2431</td>\n",
              "      <td>920</td>\n",
              "      <td>1892</td>\n",
              "      <td>48.6</td>\n",
              "      <td>111</td>\n",
              "      <td>297</td>\n",
              "      <td>37.4</td>\n",
              "      <td>480</td>\n",
              "      <td>576</td>\n",
              "      <td>83.3</td>\n",
              "      <td>113</td>\n",
              "      <td>369</td>\n",
              "      <td>482</td>\n",
              "      <td>352</td>\n",
              "      <td>166</td>\n",
              "      <td>140</td>\n",
              "      <td>44</td>\n",
              "      <td>156</td>\n",
              "      <td>3923.4</td>\n",
              "      <td>9</td>\n",
              "      <td>1</td>\n",
              "      <td>820</td>\n",
              "      <td>1996-1997</td>\n",
              "    </tr>\n",
              "    <tr>\n",
              "      <th>1</th>\n",
              "      <td>Karl Malone</td>\n",
              "      <td>UTA</td>\n",
              "      <td>33</td>\n",
              "      <td>82</td>\n",
              "      <td>64</td>\n",
              "      <td>18</td>\n",
              "      <td>2998</td>\n",
              "      <td>2249</td>\n",
              "      <td>864</td>\n",
              "      <td>1571</td>\n",
              "      <td>55.0</td>\n",
              "      <td>0</td>\n",
              "      <td>13</td>\n",
              "      <td>0.0</td>\n",
              "      <td>521</td>\n",
              "      <td>690</td>\n",
              "      <td>75.5</td>\n",
              "      <td>193</td>\n",
              "      <td>616</td>\n",
              "      <td>809</td>\n",
              "      <td>368</td>\n",
              "      <td>233</td>\n",
              "      <td>113</td>\n",
              "      <td>48</td>\n",
              "      <td>216</td>\n",
              "      <td>4021.8</td>\n",
              "      <td>43</td>\n",
              "      <td>1</td>\n",
              "      <td>767</td>\n",
              "      <td>1996-1997</td>\n",
              "    </tr>\n",
              "    <tr>\n",
              "      <th>2</th>\n",
              "      <td>Glen Rice</td>\n",
              "      <td>CHH</td>\n",
              "      <td>30</td>\n",
              "      <td>79</td>\n",
              "      <td>52</td>\n",
              "      <td>27</td>\n",
              "      <td>3359</td>\n",
              "      <td>2115</td>\n",
              "      <td>722</td>\n",
              "      <td>1513</td>\n",
              "      <td>47.7</td>\n",
              "      <td>207</td>\n",
              "      <td>440</td>\n",
              "      <td>47.0</td>\n",
              "      <td>464</td>\n",
              "      <td>535</td>\n",
              "      <td>86.7</td>\n",
              "      <td>67</td>\n",
              "      <td>251</td>\n",
              "      <td>318</td>\n",
              "      <td>160</td>\n",
              "      <td>177</td>\n",
              "      <td>72</td>\n",
              "      <td>26</td>\n",
              "      <td>190</td>\n",
              "      <td>2853.6</td>\n",
              "      <td>0</td>\n",
              "      <td>0</td>\n",
              "      <td>176</td>\n",
              "      <td>1996-1997</td>\n",
              "    </tr>\n",
              "    <tr>\n",
              "      <th>3</th>\n",
              "      <td>Mitch Richmond</td>\n",
              "      <td>SAC</td>\n",
              "      <td>32</td>\n",
              "      <td>81</td>\n",
              "      <td>34</td>\n",
              "      <td>47</td>\n",
              "      <td>3063</td>\n",
              "      <td>2095</td>\n",
              "      <td>717</td>\n",
              "      <td>1578</td>\n",
              "      <td>45.4</td>\n",
              "      <td>204</td>\n",
              "      <td>477</td>\n",
              "      <td>42.8</td>\n",
              "      <td>457</td>\n",
              "      <td>531</td>\n",
              "      <td>86.1</td>\n",
              "      <td>59</td>\n",
              "      <td>260</td>\n",
              "      <td>319</td>\n",
              "      <td>338</td>\n",
              "      <td>237</td>\n",
              "      <td>118</td>\n",
              "      <td>24</td>\n",
              "      <td>206</td>\n",
              "      <td>3173.8</td>\n",
              "      <td>4</td>\n",
              "      <td>1</td>\n",
              "      <td>-96</td>\n",
              "      <td>1996-1997</td>\n",
              "    </tr>\n",
              "    <tr>\n",
              "      <th>4</th>\n",
              "      <td>Latrell Sprewell</td>\n",
              "      <td>GSW</td>\n",
              "      <td>26</td>\n",
              "      <td>80</td>\n",
              "      <td>29</td>\n",
              "      <td>51</td>\n",
              "      <td>3350</td>\n",
              "      <td>1938</td>\n",
              "      <td>649</td>\n",
              "      <td>1444</td>\n",
              "      <td>44.9</td>\n",
              "      <td>147</td>\n",
              "      <td>415</td>\n",
              "      <td>35.4</td>\n",
              "      <td>493</td>\n",
              "      <td>585</td>\n",
              "      <td>84.3</td>\n",
              "      <td>58</td>\n",
              "      <td>308</td>\n",
              "      <td>366</td>\n",
              "      <td>507</td>\n",
              "      <td>322</td>\n",
              "      <td>133</td>\n",
              "      <td>45</td>\n",
              "      <td>153</td>\n",
              "      <td>3349.7</td>\n",
              "      <td>15</td>\n",
              "      <td>1</td>\n",
              "      <td>-216</td>\n",
              "      <td>1996-1997</td>\n",
              "    </tr>\n",
              "  </tbody>\n",
              "</table>\n",
              "</div>"
            ],
            "text/plain": [
              "             PLAYER TEAM  AGE  GP   W  ...      FP  DD2  TD3  +/-     SEASON\n",
              "0    Michael Jordan  CHI   34  82  69  ...  3923.4    9    1  820  1996-1997\n",
              "1       Karl Malone  UTA   33  82  64  ...  4021.8   43    1  767  1996-1997\n",
              "2         Glen Rice  CHH   30  79  52  ...  2853.6    0    0  176  1996-1997\n",
              "3    Mitch Richmond  SAC   32  81  34  ...  3173.8    4    1  -96  1996-1997\n",
              "4  Latrell Sprewell  GSW   26  80  29  ...  3349.7   15    1 -216  1996-1997\n",
              "\n",
              "[5 rows x 30 columns]"
            ]
          },
          "metadata": {},
          "execution_count": 9
        }
      ]
    },
    {
      "cell_type": "code",
      "metadata": {
        "id": "Pl1ooTd6MdUH"
      },
      "source": [
        "# converting the years in SEASON to full form\n",
        "df['SEASON'] = df['SEASON'].apply(lambda x: x[:-2]+'19'+x[-2:] if int(x[-2:]) > 80  else x[:-2]+'20'+x[-2:] )"
      ],
      "execution_count": 6,
      "outputs": []
    },
    {
      "cell_type": "code",
      "metadata": {
        "colab": {
          "base_uri": "https://localhost:8080/"
        },
        "id": "A_KGCWH3Miq5",
        "outputId": "895b48f2-3d72-47e7-e087-934eba996fad"
      },
      "source": [
        "# currently how season looks\n",
        "df['SEASON'].unique()"
      ],
      "execution_count": 8,
      "outputs": [
        {
          "output_type": "execute_result",
          "data": {
            "text/plain": [
              "array(['1996-1997', '1997-1998', '1998-1999', '1999-2000', '2000-2001',\n",
              "       '2001-2002', '2002-2003', '2003-2004', '2004-2005', '2005-2006',\n",
              "       '2006-2007', '2007-2008', '2008-2009', '2009-2010', '2010-2011',\n",
              "       '2011-2012', '2012-2013', '2013-2014', '2014-2015', '2015-2016',\n",
              "       '2016-2017'], dtype=object)"
            ]
          },
          "metadata": {},
          "execution_count": 8
        }
      ]
    },
    {
      "cell_type": "markdown",
      "metadata": {
        "id": "oLZvdE3u1WDb"
      },
      "source": [
        "## Exporting the Final dataframe"
      ]
    },
    {
      "cell_type": "code",
      "metadata": {
        "id": "WJAqgLAJutPX"
      },
      "source": [
        "# exportingthe dataframe to new CSV\n",
        "df.to_csv('General_Totals_All_Seasons_Cleaned.csv', index = False, header=True) "
      ],
      "execution_count": 10,
      "outputs": []
    }
  ]
}